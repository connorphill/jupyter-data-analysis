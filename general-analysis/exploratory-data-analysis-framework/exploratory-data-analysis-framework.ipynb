{
 "cells": [
  {
   "cell_type": "markdown",
   "metadata": {},
   "source": [
    "# Exploratory Data Analysis (EDA) Framework\n",
    "### By Connor Phillips\n",
    "### www.connorphillips.com\n",
    "---"
   ]
  },
  {
   "cell_type": "markdown",
   "metadata": {},
   "source": [
    "## Load\n",
    "---"
   ]
  },
  {
   "cell_type": "markdown",
   "metadata": {},
   "source": [
    "### Import Libraries"
   ]
  },
  {
   "cell_type": "code",
   "execution_count": 1,
   "metadata": {},
   "outputs": [],
   "source": [
    "# Import Libraries\n",
    "import pandas as pd\n",
    "import numpy as np\n",
    "import matplotlib.pyplot as plt\n",
    "import seaborn as sns\n",
    "sns.set()\n",
    "%matplotlib inline"
   ]
  },
  {
   "cell_type": "markdown",
   "metadata": {},
   "source": [
    "### Import Data"
   ]
  },
  {
   "cell_type": "code",
   "execution_count": 2,
   "metadata": {},
   "outputs": [],
   "source": [
    "# Data pulled from https://www.kaggle.com/ruchi798/movies-on-netflix-prime-video-hulu-and-disney?select=MoviesOnStreamingPlatforms_updated.csv\n",
    "df = pd.read_csv('data.csv', index_col=\"ID\")"
   ]
  },
  {
   "cell_type": "markdown",
   "metadata": {},
   "source": [
    "## Describe\n",
    "---"
   ]
  },
  {
   "cell_type": "markdown",
   "metadata": {},
   "source": [
    "### Data info, preview and shape"
   ]
  },
  {
   "cell_type": "code",
   "execution_count": 3,
   "metadata": {},
   "outputs": [
    {
     "name": "stdout",
     "output_type": "stream",
     "text": [
      "<class 'pandas.core.frame.DataFrame'>\n",
      "Int64Index: 16744 entries, 1 to 16744\n",
      "Data columns (total 15 columns):\n",
      " #   Column           Non-Null Count  Dtype  \n",
      "---  ------           --------------  -----  \n",
      " 0   Title            16744 non-null  object \n",
      " 1   Year             16744 non-null  int64  \n",
      " 2   Age              7354 non-null   object \n",
      " 3   IMDb             16173 non-null  float64\n",
      " 4   Rotten Tomatoes  5158 non-null   object \n",
      " 5   Netflix          16744 non-null  int64  \n",
      " 6   Hulu             16744 non-null  int64  \n",
      " 7   Prime Video      16744 non-null  int64  \n",
      " 8   Disney+          16744 non-null  int64  \n",
      " 9   Type             16744 non-null  int64  \n",
      " 10  Directors        16018 non-null  object \n",
      " 11  Genres           16469 non-null  object \n",
      " 12  Country          16309 non-null  object \n",
      " 13  Language         16145 non-null  object \n",
      " 14  Runtime          16152 non-null  float64\n",
      "dtypes: float64(2), int64(6), object(7)\n",
      "memory usage: 2.0+ MB\n"
     ]
    },
    {
     "data": {
      "text/html": [
       "<div>\n",
       "<style scoped>\n",
       "    .dataframe tbody tr th:only-of-type {\n",
       "        vertical-align: middle;\n",
       "    }\n",
       "\n",
       "    .dataframe tbody tr th {\n",
       "        vertical-align: top;\n",
       "    }\n",
       "\n",
       "    .dataframe thead th {\n",
       "        text-align: right;\n",
       "    }\n",
       "</style>\n",
       "<table border=\"1\" class=\"dataframe\">\n",
       "  <thead>\n",
       "    <tr style=\"text-align: right;\">\n",
       "      <th></th>\n",
       "      <th>Title</th>\n",
       "      <th>Year</th>\n",
       "      <th>Age</th>\n",
       "      <th>IMDb</th>\n",
       "      <th>Rotten Tomatoes</th>\n",
       "      <th>Netflix</th>\n",
       "      <th>Hulu</th>\n",
       "      <th>Prime Video</th>\n",
       "      <th>Disney+</th>\n",
       "      <th>Type</th>\n",
       "      <th>Directors</th>\n",
       "      <th>Genres</th>\n",
       "      <th>Country</th>\n",
       "      <th>Language</th>\n",
       "      <th>Runtime</th>\n",
       "    </tr>\n",
       "    <tr>\n",
       "      <th>ID</th>\n",
       "      <th></th>\n",
       "      <th></th>\n",
       "      <th></th>\n",
       "      <th></th>\n",
       "      <th></th>\n",
       "      <th></th>\n",
       "      <th></th>\n",
       "      <th></th>\n",
       "      <th></th>\n",
       "      <th></th>\n",
       "      <th></th>\n",
       "      <th></th>\n",
       "      <th></th>\n",
       "      <th></th>\n",
       "      <th></th>\n",
       "    </tr>\n",
       "  </thead>\n",
       "  <tbody>\n",
       "    <tr>\n",
       "      <th>1</th>\n",
       "      <td>Inception</td>\n",
       "      <td>2010</td>\n",
       "      <td>13+</td>\n",
       "      <td>8.8</td>\n",
       "      <td>87%</td>\n",
       "      <td>1</td>\n",
       "      <td>0</td>\n",
       "      <td>0</td>\n",
       "      <td>0</td>\n",
       "      <td>0</td>\n",
       "      <td>Christopher Nolan</td>\n",
       "      <td>Action,Adventure,Sci-Fi,Thriller</td>\n",
       "      <td>United States,United Kingdom</td>\n",
       "      <td>English,Japanese,French</td>\n",
       "      <td>148.0</td>\n",
       "    </tr>\n",
       "    <tr>\n",
       "      <th>2</th>\n",
       "      <td>The Matrix</td>\n",
       "      <td>1999</td>\n",
       "      <td>18+</td>\n",
       "      <td>8.7</td>\n",
       "      <td>87%</td>\n",
       "      <td>1</td>\n",
       "      <td>0</td>\n",
       "      <td>0</td>\n",
       "      <td>0</td>\n",
       "      <td>0</td>\n",
       "      <td>Lana Wachowski,Lilly Wachowski</td>\n",
       "      <td>Action,Sci-Fi</td>\n",
       "      <td>United States</td>\n",
       "      <td>English</td>\n",
       "      <td>136.0</td>\n",
       "    </tr>\n",
       "    <tr>\n",
       "      <th>3</th>\n",
       "      <td>Avengers: Infinity War</td>\n",
       "      <td>2018</td>\n",
       "      <td>13+</td>\n",
       "      <td>8.5</td>\n",
       "      <td>84%</td>\n",
       "      <td>1</td>\n",
       "      <td>0</td>\n",
       "      <td>0</td>\n",
       "      <td>0</td>\n",
       "      <td>0</td>\n",
       "      <td>Anthony Russo,Joe Russo</td>\n",
       "      <td>Action,Adventure,Sci-Fi</td>\n",
       "      <td>United States</td>\n",
       "      <td>English</td>\n",
       "      <td>149.0</td>\n",
       "    </tr>\n",
       "    <tr>\n",
       "      <th>4</th>\n",
       "      <td>Back to the Future</td>\n",
       "      <td>1985</td>\n",
       "      <td>7+</td>\n",
       "      <td>8.5</td>\n",
       "      <td>96%</td>\n",
       "      <td>1</td>\n",
       "      <td>0</td>\n",
       "      <td>0</td>\n",
       "      <td>0</td>\n",
       "      <td>0</td>\n",
       "      <td>Robert Zemeckis</td>\n",
       "      <td>Adventure,Comedy,Sci-Fi</td>\n",
       "      <td>United States</td>\n",
       "      <td>English</td>\n",
       "      <td>116.0</td>\n",
       "    </tr>\n",
       "    <tr>\n",
       "      <th>5</th>\n",
       "      <td>The Good, the Bad and the Ugly</td>\n",
       "      <td>1966</td>\n",
       "      <td>18+</td>\n",
       "      <td>8.8</td>\n",
       "      <td>97%</td>\n",
       "      <td>1</td>\n",
       "      <td>0</td>\n",
       "      <td>1</td>\n",
       "      <td>0</td>\n",
       "      <td>0</td>\n",
       "      <td>Sergio Leone</td>\n",
       "      <td>Western</td>\n",
       "      <td>Italy,Spain,West Germany</td>\n",
       "      <td>Italian</td>\n",
       "      <td>161.0</td>\n",
       "    </tr>\n",
       "  </tbody>\n",
       "</table>\n",
       "</div>"
      ],
      "text/plain": [
       "                             Title  Year  Age  IMDb Rotten Tomatoes  Netflix  \\\n",
       "ID                                                                             \n",
       "1                        Inception  2010  13+   8.8             87%        1   \n",
       "2                       The Matrix  1999  18+   8.7             87%        1   \n",
       "3           Avengers: Infinity War  2018  13+   8.5             84%        1   \n",
       "4               Back to the Future  1985   7+   8.5             96%        1   \n",
       "5   The Good, the Bad and the Ugly  1966  18+   8.8             97%        1   \n",
       "\n",
       "    Hulu  Prime Video  Disney+  Type                       Directors  \\\n",
       "ID                                                                     \n",
       "1      0            0        0     0               Christopher Nolan   \n",
       "2      0            0        0     0  Lana Wachowski,Lilly Wachowski   \n",
       "3      0            0        0     0         Anthony Russo,Joe Russo   \n",
       "4      0            0        0     0                 Robert Zemeckis   \n",
       "5      0            1        0     0                    Sergio Leone   \n",
       "\n",
       "                              Genres                       Country  \\\n",
       "ID                                                                   \n",
       "1   Action,Adventure,Sci-Fi,Thriller  United States,United Kingdom   \n",
       "2                      Action,Sci-Fi                 United States   \n",
       "3            Action,Adventure,Sci-Fi                 United States   \n",
       "4            Adventure,Comedy,Sci-Fi                 United States   \n",
       "5                            Western      Italy,Spain,West Germany   \n",
       "\n",
       "                   Language  Runtime  \n",
       "ID                                    \n",
       "1   English,Japanese,French    148.0  \n",
       "2                   English    136.0  \n",
       "3                   English    149.0  \n",
       "4                   English    116.0  \n",
       "5                   Italian    161.0  "
      ]
     },
     "execution_count": 3,
     "metadata": {},
     "output_type": "execute_result"
    }
   ],
   "source": [
    "df.info() # Data types\n",
    "df.head() # Data preview - First five rows"
   ]
  },
  {
   "cell_type": "code",
   "execution_count": 4,
   "metadata": {},
   "outputs": [
    {
     "name": "stdout",
     "output_type": "stream",
     "text": [
      "Columns:  Index(['Title', 'Year', 'Age', 'IMDb', 'Rotten Tomatoes', 'Netflix', 'Hulu',\n",
      "       'Prime Video', 'Disney+', 'Type', 'Directors', 'Genres', 'Country',\n",
      "       'Language', 'Runtime'],\n",
      "      dtype='object')\n"
     ]
    }
   ],
   "source": [
    "print(\"Columns: \", df.columns) # Data columns"
   ]
  },
  {
   "cell_type": "code",
   "execution_count": 5,
   "metadata": {},
   "outputs": [
    {
     "name": "stdout",
     "output_type": "stream",
     "text": [
      "Shape:  (16744, 15)\n",
      "Rows:  16744\n",
      "Columns:  16744\n"
     ]
    }
   ],
   "source": [
    "print(\"Shape: \",df.shape) # Shape of the data frame\n",
    "print(\"Rows: \", df.shape[0])\n",
    "print(\"Columns: \", df.shape[0])"
   ]
  },
  {
   "cell_type": "markdown",
   "metadata": {},
   "source": [
    "### Data describe, null values, unique values"
   ]
  },
  {
   "cell_type": "code",
   "execution_count": 6,
   "metadata": {},
   "outputs": [
    {
     "data": {
      "text/html": [
       "<div>\n",
       "<style scoped>\n",
       "    .dataframe tbody tr th:only-of-type {\n",
       "        vertical-align: middle;\n",
       "    }\n",
       "\n",
       "    .dataframe tbody tr th {\n",
       "        vertical-align: top;\n",
       "    }\n",
       "\n",
       "    .dataframe thead th {\n",
       "        text-align: right;\n",
       "    }\n",
       "</style>\n",
       "<table border=\"1\" class=\"dataframe\">\n",
       "  <thead>\n",
       "    <tr style=\"text-align: right;\">\n",
       "      <th></th>\n",
       "      <th>Year</th>\n",
       "      <th>IMDb</th>\n",
       "      <th>Netflix</th>\n",
       "      <th>Hulu</th>\n",
       "      <th>Prime Video</th>\n",
       "      <th>Disney+</th>\n",
       "      <th>Type</th>\n",
       "      <th>Runtime</th>\n",
       "    </tr>\n",
       "  </thead>\n",
       "  <tbody>\n",
       "    <tr>\n",
       "      <th>count</th>\n",
       "      <td>16744.000000</td>\n",
       "      <td>16173.000000</td>\n",
       "      <td>16744.000000</td>\n",
       "      <td>16744.000000</td>\n",
       "      <td>16744.000000</td>\n",
       "      <td>16744.000000</td>\n",
       "      <td>16744.0</td>\n",
       "      <td>16152.000000</td>\n",
       "    </tr>\n",
       "    <tr>\n",
       "      <th>mean</th>\n",
       "      <td>2003.014035</td>\n",
       "      <td>5.902751</td>\n",
       "      <td>0.212613</td>\n",
       "      <td>0.053930</td>\n",
       "      <td>0.737817</td>\n",
       "      <td>0.033684</td>\n",
       "      <td>0.0</td>\n",
       "      <td>93.413447</td>\n",
       "    </tr>\n",
       "    <tr>\n",
       "      <th>std</th>\n",
       "      <td>20.674321</td>\n",
       "      <td>1.347867</td>\n",
       "      <td>0.409169</td>\n",
       "      <td>0.225886</td>\n",
       "      <td>0.439835</td>\n",
       "      <td>0.180419</td>\n",
       "      <td>0.0</td>\n",
       "      <td>28.219222</td>\n",
       "    </tr>\n",
       "    <tr>\n",
       "      <th>min</th>\n",
       "      <td>1902.000000</td>\n",
       "      <td>0.000000</td>\n",
       "      <td>0.000000</td>\n",
       "      <td>0.000000</td>\n",
       "      <td>0.000000</td>\n",
       "      <td>0.000000</td>\n",
       "      <td>0.0</td>\n",
       "      <td>1.000000</td>\n",
       "    </tr>\n",
       "    <tr>\n",
       "      <th>25%</th>\n",
       "      <td>2000.000000</td>\n",
       "      <td>5.100000</td>\n",
       "      <td>0.000000</td>\n",
       "      <td>0.000000</td>\n",
       "      <td>0.000000</td>\n",
       "      <td>0.000000</td>\n",
       "      <td>0.0</td>\n",
       "      <td>82.000000</td>\n",
       "    </tr>\n",
       "    <tr>\n",
       "      <th>50%</th>\n",
       "      <td>2012.000000</td>\n",
       "      <td>6.100000</td>\n",
       "      <td>0.000000</td>\n",
       "      <td>0.000000</td>\n",
       "      <td>1.000000</td>\n",
       "      <td>0.000000</td>\n",
       "      <td>0.0</td>\n",
       "      <td>92.000000</td>\n",
       "    </tr>\n",
       "    <tr>\n",
       "      <th>75%</th>\n",
       "      <td>2016.000000</td>\n",
       "      <td>6.900000</td>\n",
       "      <td>0.000000</td>\n",
       "      <td>0.000000</td>\n",
       "      <td>1.000000</td>\n",
       "      <td>0.000000</td>\n",
       "      <td>0.0</td>\n",
       "      <td>104.000000</td>\n",
       "    </tr>\n",
       "    <tr>\n",
       "      <th>max</th>\n",
       "      <td>2020.000000</td>\n",
       "      <td>9.300000</td>\n",
       "      <td>1.000000</td>\n",
       "      <td>1.000000</td>\n",
       "      <td>1.000000</td>\n",
       "      <td>1.000000</td>\n",
       "      <td>0.0</td>\n",
       "      <td>1256.000000</td>\n",
       "    </tr>\n",
       "  </tbody>\n",
       "</table>\n",
       "</div>"
      ],
      "text/plain": [
       "               Year          IMDb       Netflix          Hulu   Prime Video  \\\n",
       "count  16744.000000  16173.000000  16744.000000  16744.000000  16744.000000   \n",
       "mean    2003.014035      5.902751      0.212613      0.053930      0.737817   \n",
       "std       20.674321      1.347867      0.409169      0.225886      0.439835   \n",
       "min     1902.000000      0.000000      0.000000      0.000000      0.000000   \n",
       "25%     2000.000000      5.100000      0.000000      0.000000      0.000000   \n",
       "50%     2012.000000      6.100000      0.000000      0.000000      1.000000   \n",
       "75%     2016.000000      6.900000      0.000000      0.000000      1.000000   \n",
       "max     2020.000000      9.300000      1.000000      1.000000      1.000000   \n",
       "\n",
       "            Disney+     Type       Runtime  \n",
       "count  16744.000000  16744.0  16152.000000  \n",
       "mean       0.033684      0.0     93.413447  \n",
       "std        0.180419      0.0     28.219222  \n",
       "min        0.000000      0.0      1.000000  \n",
       "25%        0.000000      0.0     82.000000  \n",
       "50%        0.000000      0.0     92.000000  \n",
       "75%        0.000000      0.0    104.000000  \n",
       "max        1.000000      0.0   1256.000000  "
      ]
     },
     "execution_count": 6,
     "metadata": {},
     "output_type": "execute_result"
    }
   ],
   "source": [
    "df.describe() # Describe the data"
   ]
  },
  {
   "cell_type": "code",
   "execution_count": 7,
   "metadata": {},
   "outputs": [
    {
     "data": {
      "text/plain": [
       "Title              16744\n",
       "Year                 109\n",
       "Age                    5\n",
       "IMDb                  82\n",
       "Rotten Tomatoes       99\n",
       "Netflix                2\n",
       "Hulu                   2\n",
       "Prime Video            2\n",
       "Disney+                2\n",
       "Type                   1\n",
       "Directors          11338\n",
       "Genres              1909\n",
       "Country             1303\n",
       "Language            1102\n",
       "Runtime              225\n",
       "dtype: int64"
      ]
     },
     "execution_count": 7,
     "metadata": {},
     "output_type": "execute_result"
    }
   ],
   "source": [
    "df.nunique(axis=0) # Count of unique values in each column"
   ]
  },
  {
   "cell_type": "code",
   "execution_count": 8,
   "metadata": {},
   "outputs": [
    {
     "data": {
      "text/plain": [
       "Title                  0\n",
       "Year                   0\n",
       "Age                 9390\n",
       "IMDb                 571\n",
       "Rotten Tomatoes    11586\n",
       "Netflix                0\n",
       "Hulu                   0\n",
       "Prime Video            0\n",
       "Disney+                0\n",
       "Type                   0\n",
       "Directors            726\n",
       "Genres               275\n",
       "Country              435\n",
       "Language             599\n",
       "Runtime              592\n",
       "dtype: int64"
      ]
     },
     "execution_count": 8,
     "metadata": {},
     "output_type": "execute_result"
    }
   ],
   "source": [
    "df.isnull().sum(axis = 0) # Count of null values in each column"
   ]
  },
  {
   "cell_type": "markdown",
   "metadata": {},
   "source": [
    "### Categorical data describe"
   ]
  },
  {
   "cell_type": "code",
   "execution_count": 9,
   "metadata": {},
   "outputs": [],
   "source": [
    "# Function that finds the categorical columns in the dataframe and returns the column name, count of unique values and values present\n",
    "def describe_categorical_values(data, cols):\n",
    "    num_cols = data._get_numeric_data().columns\n",
    "    cat_cols = list(set(cols) - set(num_cols))\n",
    "    df_cat_cols = data[cat_cols]\n",
    "    for x in cat_cols:\n",
    "        print(\"~ \",x, \" ~ : Count(\",data[x].nunique(),\") : \",data[x].unique())"
   ]
  },
  {
   "cell_type": "code",
   "execution_count": 10,
   "metadata": {},
   "outputs": [
    {
     "name": "stdout",
     "output_type": "stream",
     "text": [
      "~  Directors  ~ : Count( 11338 ) :  ['Christopher Nolan' 'Lana Wachowski,Lilly Wachowski'\n",
      " 'Anthony Russo,Joe Russo' ... 'Dereck Joubert' 'Bruce Bilson'\n",
      " 'Richard Slater-Jones']\n",
      "~  Country  ~ : Count( 1303 ) :  ['United States,United Kingdom' 'United States' 'Italy,Spain,West Germany'\n",
      " ... 'Canada,Malaysia,United States' 'United States,Panama,Mexico'\n",
      " 'United States,Hungary,United Kingdom']\n",
      "~  Age  ~ : Count( 5 ) :  ['13+' '18+' '7+' nan 'all' '16+']\n",
      "~  Genres  ~ : Count( 1909 ) :  ['Action,Adventure,Sci-Fi,Thriller' 'Action,Sci-Fi'\n",
      " 'Action,Adventure,Sci-Fi' ... 'Comedy,Family,Fantasy,Mystery'\n",
      " 'Family,Drama,Western' 'Comedy,Family,Adventure,Fantasy,Sci-Fi']\n",
      "~  Rotten Tomatoes  ~ : Count( 99 ) :  ['87%' '84%' '96%' '97%' '95%' '89%' '100%' '93%' '88%' '91%' '86%' '92%'\n",
      " '90%' '94%' '80%' '81%' '77%' '85%' '79%' '67%' '83%' '75%' '98%' '65%'\n",
      " '71%' '82%' '99%' '68%' '73%' '66%' '78%' '63%' '76%' '74%' '55%' '70%'\n",
      " '61%' '69%' '40%' '43%' '72%' '60%' '39%' '62%' '31%' '64%' '59%' '35%'\n",
      " '52%' '46%' '48%' '49%' '56%' '57%' '41%' '53%' '23%' '28%' '50%' '36%'\n",
      " nan '33%' '54%' '58%' '17%' '27%' '42%' '38%' '30%' '45%' '47%' '26%'\n",
      " '29%' '24%' '20%' '44%' '51%' '34%' '19%' '37%' '32%' '22%' '16%' '11%'\n",
      " '25%' '13%' '15%' '12%' '18%' '8%' '9%' '14%' '6%' '21%' '5%' '10%' '4%'\n",
      " '7%' '3%' '2%']\n",
      "~  Title  ~ : Count( 16744 ) :  ['Inception' 'The Matrix' 'Avengers: Infinity War' ...\n",
      " 'Sharks of Lost Island' 'Man Among Cheetahs' 'In Beaver Valley']\n",
      "~  Language  ~ : Count( 1102 ) :  ['English,Japanese,French' 'English' 'Italian' ... 'Greek,French'\n",
      " 'English,Swedish,German' 'English,Algonquin']\n"
     ]
    }
   ],
   "source": [
    "describe_categorical_values(df, df.columns)"
   ]
  },
  {
   "cell_type": "markdown",
   "metadata": {},
   "source": [
    "## Explore\n",
    "--- "
   ]
  },
  {
   "cell_type": "markdown",
   "metadata": {},
   "source": [
    "### Quantitative Data"
   ]
  },
  {
   "cell_type": "markdown",
   "metadata": {},
   "source": [
    "#### DataFrame"
   ]
  },
  {
   "cell_type": "code",
   "execution_count": 11,
   "metadata": {},
   "outputs": [
    {
     "data": {
      "text/plain": [
       "[dtype('float64'), dtype('int64'), dtype('O')]"
      ]
     },
     "execution_count": 11,
     "metadata": {},
     "output_type": "execute_result"
    }
   ],
   "source": [
    "# Set numerical columns to List\n",
    "list(set(df.dtypes.tolist()))"
   ]
  },
  {
   "cell_type": "code",
   "execution_count": 12,
   "metadata": {},
   "outputs": [
    {
     "data": {
      "text/html": [
       "<div>\n",
       "<style scoped>\n",
       "    .dataframe tbody tr th:only-of-type {\n",
       "        vertical-align: middle;\n",
       "    }\n",
       "\n",
       "    .dataframe tbody tr th {\n",
       "        vertical-align: top;\n",
       "    }\n",
       "\n",
       "    .dataframe thead th {\n",
       "        text-align: right;\n",
       "    }\n",
       "</style>\n",
       "<table border=\"1\" class=\"dataframe\">\n",
       "  <thead>\n",
       "    <tr style=\"text-align: right;\">\n",
       "      <th></th>\n",
       "      <th>Year</th>\n",
       "      <th>IMDb</th>\n",
       "      <th>Netflix</th>\n",
       "      <th>Hulu</th>\n",
       "      <th>Prime Video</th>\n",
       "      <th>Disney+</th>\n",
       "      <th>Type</th>\n",
       "      <th>Runtime</th>\n",
       "    </tr>\n",
       "    <tr>\n",
       "      <th>ID</th>\n",
       "      <th></th>\n",
       "      <th></th>\n",
       "      <th></th>\n",
       "      <th></th>\n",
       "      <th></th>\n",
       "      <th></th>\n",
       "      <th></th>\n",
       "      <th></th>\n",
       "    </tr>\n",
       "  </thead>\n",
       "  <tbody>\n",
       "    <tr>\n",
       "      <th>1</th>\n",
       "      <td>2010</td>\n",
       "      <td>8.8</td>\n",
       "      <td>1</td>\n",
       "      <td>0</td>\n",
       "      <td>0</td>\n",
       "      <td>0</td>\n",
       "      <td>0</td>\n",
       "      <td>148.0</td>\n",
       "    </tr>\n",
       "    <tr>\n",
       "      <th>2</th>\n",
       "      <td>1999</td>\n",
       "      <td>8.7</td>\n",
       "      <td>1</td>\n",
       "      <td>0</td>\n",
       "      <td>0</td>\n",
       "      <td>0</td>\n",
       "      <td>0</td>\n",
       "      <td>136.0</td>\n",
       "    </tr>\n",
       "    <tr>\n",
       "      <th>3</th>\n",
       "      <td>2018</td>\n",
       "      <td>8.5</td>\n",
       "      <td>1</td>\n",
       "      <td>0</td>\n",
       "      <td>0</td>\n",
       "      <td>0</td>\n",
       "      <td>0</td>\n",
       "      <td>149.0</td>\n",
       "    </tr>\n",
       "    <tr>\n",
       "      <th>4</th>\n",
       "      <td>1985</td>\n",
       "      <td>8.5</td>\n",
       "      <td>1</td>\n",
       "      <td>0</td>\n",
       "      <td>0</td>\n",
       "      <td>0</td>\n",
       "      <td>0</td>\n",
       "      <td>116.0</td>\n",
       "    </tr>\n",
       "    <tr>\n",
       "      <th>5</th>\n",
       "      <td>1966</td>\n",
       "      <td>8.8</td>\n",
       "      <td>1</td>\n",
       "      <td>0</td>\n",
       "      <td>1</td>\n",
       "      <td>0</td>\n",
       "      <td>0</td>\n",
       "      <td>161.0</td>\n",
       "    </tr>\n",
       "  </tbody>\n",
       "</table>\n",
       "</div>"
      ],
      "text/plain": [
       "    Year  IMDb  Netflix  Hulu  Prime Video  Disney+  Type  Runtime\n",
       "ID                                                                \n",
       "1   2010   8.8        1     0            0        0     0    148.0\n",
       "2   1999   8.7        1     0            0        0     0    136.0\n",
       "3   2018   8.5        1     0            0        0     0    149.0\n",
       "4   1985   8.5        1     0            0        0     0    116.0\n",
       "5   1966   8.8        1     0            1        0     0    161.0"
      ]
     },
     "execution_count": 12,
     "metadata": {},
     "output_type": "execute_result"
    }
   ],
   "source": [
    "df_num = df.select_dtypes(include = ['float64', 'int64'])\n",
    "df_num.head()"
   ]
  },
  {
   "cell_type": "markdown",
   "metadata": {},
   "source": [
    "#### Histograms"
   ]
  },
  {
   "cell_type": "code",
   "execution_count": 13,
   "metadata": {},
   "outputs": [
    {
     "data": {
      "image/png": "[encoded data removed]",
      "text/plain": [
       "<Figure size 1152x1440 with 9 Axes>"
      ]
     },
     "metadata": {
      "needs_background": "light"
     },
     "output_type": "display_data"
    }
   ],
   "source": [
    "df_num.hist(figsize=(16, 20), bins=50, xlabelsize=8, ylabelsize=8);"
   ]
  },
  {
   "cell_type": "markdown",
   "metadata": {},
   "source": [
    "#### Scatterplot"
   ]
  },
  {
   "cell_type": "code",
   "execution_count": 14,
   "metadata": {},
   "outputs": [
    {
     "data": {
      "image/png": "[encoded data removed]",
      "text/plain": [
       "<Figure size 900x180 with 5 Axes>"
      ]
     },
     "metadata": {
      "needs_background": "light"
     },
     "output_type": "display_data"
    },
    {
     "data": {
      "image/png": "[encoded data removed]",
      "text/plain": [
       "<Figure size 540x180 with 3 Axes>"
      ]
     },
     "metadata": {
      "needs_background": "light"
     },
     "output_type": "display_data"
    }
   ],
   "source": [
    "for i in range(0, len(df_num.columns), 5):\n",
    "    sns.pairplot(data=df_num, x_vars=df_num.columns[i:i+5], y_vars=['IMDb'])"
   ]
  },
  {
   "cell_type": "markdown",
   "metadata": {},
   "source": [
    "### Qualitative Data"
   ]
  },
  {
   "cell_type": "markdown",
   "metadata": {},
   "source": [
    "#### DataFrame (Based on Columns with Unique Count <= 100)"
   ]
  },
  {
   "cell_type": "code",
   "execution_count": 15,
   "metadata": {},
   "outputs": [],
   "source": [
    "# Function that finds the categorical columns in the dataframe and passes them to a new dataframe\n",
    "def categorical_columns(data, cols):\n",
    "    num_cols = data._get_numeric_data().columns\n",
    "    cat_cols = list(set(cols) - set(num_cols))\n",
    "    df_cat_cols = data[cat_cols]\n",
    "    return df_cat_cols"
   ]
  },
  {
   "cell_type": "code",
   "execution_count": 16,
   "metadata": {},
   "outputs": [],
   "source": [
    "df_cat = categorical_columns(df, df.columns)"
   ]
  },
  {
   "cell_type": "code",
   "execution_count": 17,
   "metadata": {},
   "outputs": [
    {
     "data": {
      "text/html": [
       "<div>\n",
       "<style scoped>\n",
       "    .dataframe tbody tr th:only-of-type {\n",
       "        vertical-align: middle;\n",
       "    }\n",
       "\n",
       "    .dataframe tbody tr th {\n",
       "        vertical-align: top;\n",
       "    }\n",
       "\n",
       "    .dataframe thead th {\n",
       "        text-align: right;\n",
       "    }\n",
       "</style>\n",
       "<table border=\"1\" class=\"dataframe\">\n",
       "  <thead>\n",
       "    <tr style=\"text-align: right;\">\n",
       "      <th></th>\n",
       "      <th>Directors</th>\n",
       "      <th>Country</th>\n",
       "      <th>Age</th>\n",
       "      <th>Genres</th>\n",
       "      <th>Rotten Tomatoes</th>\n",
       "      <th>Title</th>\n",
       "      <th>Language</th>\n",
       "    </tr>\n",
       "    <tr>\n",
       "      <th>ID</th>\n",
       "      <th></th>\n",
       "      <th></th>\n",
       "      <th></th>\n",
       "      <th></th>\n",
       "      <th></th>\n",
       "      <th></th>\n",
       "      <th></th>\n",
       "    </tr>\n",
       "  </thead>\n",
       "  <tbody>\n",
       "    <tr>\n",
       "      <th>1</th>\n",
       "      <td>Christopher Nolan</td>\n",
       "      <td>United States,United Kingdom</td>\n",
       "      <td>13+</td>\n",
       "      <td>Action,Adventure,Sci-Fi,Thriller</td>\n",
       "      <td>87%</td>\n",
       "      <td>Inception</td>\n",
       "      <td>English,Japanese,French</td>\n",
       "    </tr>\n",
       "    <tr>\n",
       "      <th>2</th>\n",
       "      <td>Lana Wachowski,Lilly Wachowski</td>\n",
       "      <td>United States</td>\n",
       "      <td>18+</td>\n",
       "      <td>Action,Sci-Fi</td>\n",
       "      <td>87%</td>\n",
       "      <td>The Matrix</td>\n",
       "      <td>English</td>\n",
       "    </tr>\n",
       "    <tr>\n",
       "      <th>3</th>\n",
       "      <td>Anthony Russo,Joe Russo</td>\n",
       "      <td>United States</td>\n",
       "      <td>13+</td>\n",
       "      <td>Action,Adventure,Sci-Fi</td>\n",
       "      <td>84%</td>\n",
       "      <td>Avengers: Infinity War</td>\n",
       "      <td>English</td>\n",
       "    </tr>\n",
       "  </tbody>\n",
       "</table>\n",
       "</div>"
      ],
      "text/plain": [
       "                         Directors                       Country  Age  \\\n",
       "ID                                                                      \n",
       "1                Christopher Nolan  United States,United Kingdom  13+   \n",
       "2   Lana Wachowski,Lilly Wachowski                 United States  18+   \n",
       "3          Anthony Russo,Joe Russo                 United States  13+   \n",
       "\n",
       "                              Genres Rotten Tomatoes                   Title  \\\n",
       "ID                                                                             \n",
       "1   Action,Adventure,Sci-Fi,Thriller             87%               Inception   \n",
       "2                      Action,Sci-Fi             87%              The Matrix   \n",
       "3            Action,Adventure,Sci-Fi             84%  Avengers: Infinity War   \n",
       "\n",
       "                   Language  \n",
       "ID                           \n",
       "1   English,Japanese,French  \n",
       "2                   English  \n",
       "3                   English  "
      ]
     },
     "execution_count": 17,
     "metadata": {},
     "output_type": "execute_result"
    }
   ],
   "source": [
    "df_cat.head(3)"
   ]
  },
  {
   "cell_type": "code",
   "execution_count": 45,
   "metadata": {},
   "outputs": [
    {
     "name": "stdout",
     "output_type": "stream",
     "text": [
      "       Age Rotten Tomatoes\n",
      "ID                        \n",
      "1      13+             87%\n",
      "2      18+             87%\n",
      "3      13+             84%\n",
      "4       7+             96%\n",
      "5      18+             97%\n",
      "...    ...             ...\n",
      "16740  NaN             NaN\n",
      "16741   7+             NaN\n",
      "16742  NaN             NaN\n",
      "16743  NaN             NaN\n",
      "16744  NaN             NaN\n",
      "\n",
      "[16744 rows x 2 columns]\n"
     ]
    }
   ],
   "source": [
    "# Categorical DataFrames with less than 100 unique records for visualization\n",
    "df_cat_viz = pd.DataFrame()\n",
    "\n",
    "for i in df_cat:\n",
    "    if df_cat[i].nunique() <= 100:\n",
    "        df_cat_viz[df_cat[i].name] = df_cat[i]\n",
    "#         df_cat_viz = df_cat_viz.append(df_cat[i])\n",
    "        \n",
    "print(df_cat_viz)"
   ]
  },
  {
   "cell_type": "markdown",
   "metadata": {},
   "source": [
    "#### Bar charts"
   ]
  },
  {
   "cell_type": "code",
   "execution_count": 68,
   "metadata": {},
   "outputs": [
    {
     "data": {
      "image/png": "[encoded data removed]",
      "text/plain": [
       "<Figure size 1440x1080 with 2 Axes>"
      ]
     },
     "metadata": {
      "needs_background": "light"
     },
     "output_type": "display_data"
    }
   ],
   "source": [
    "plt_nrows = round(len(df_cat_viz.columns) / 2) + 1\n",
    "plt_ncols = len(df_cat_viz.columns) - plt_nrows + 1\n",
    "\n",
    "fig, axs = plt.subplots(plt_nrows, plt_ncols, figsize=(20,15))\n",
    "\n",
    "for axs, col in zip(axs.ravel(), df_cat_viz.columns):\n",
    "    df_cat_viz.groupby(col).apply(len).plot(kind='bar', ax=axs)\n",
    "    \n",
    "plt.tight_layout()"
   ]
  },
  {
   "cell_type": "markdown",
   "metadata": {},
   "source": [
    "## Clean\n",
    "--- "
   ]
  },
  {
   "cell_type": "markdown",
   "metadata": {},
   "source": [
    "### Remove Outliers"
   ]
  },
  {
   "cell_type": "markdown",
   "metadata": {},
   "source": [
    "The removal process for this framework is based on the IQR and removes rows based on the user selected column"
   ]
  },
  {
   "cell_type": "code",
   "execution_count": 71,
   "metadata": {},
   "outputs": [],
   "source": [
    "# outlier removal function using interquartile range\n",
    "def reject_outliers_iqr(data, metric):\n",
    "    metric_formatted = data[metric].astype(float)\n",
    "    print(metric_formatted)\n",
    "    q1, q3 = np.percentile(metric_formatted, [25, 75])\n",
    "    iqr = q3 - q1\n",
    "    \n",
    "    lower_bound = q1 - (iqr * 1.5)\n",
    "    upper_bound = q3 + (iqr * 1.5)\n",
    "    \n",
    "    data = data[(metric_formatted > lower_bound) & (metric_formatted < upper_bound)]\n",
    "    \n",
    "    return data"
   ]
  },
  {
   "cell_type": "code",
   "execution_count": 72,
   "metadata": {},
   "outputs": [
    {
     "name": "stdout",
     "output_type": "stream",
     "text": [
      "ID\n",
      "1        8.8\n",
      "2        8.7\n",
      "3        8.5\n",
      "4        8.5\n",
      "5        8.8\n",
      "        ... \n",
      "16740    6.2\n",
      "16741    4.7\n",
      "16742    5.7\n",
      "16743    6.6\n",
      "16744    NaN\n",
      "Name: IMDb, Length: 16744, dtype: float64\n"
     ]
    },
    {
     "data": {
      "text/html": [
       "<div>\n",
       "<style scoped>\n",
       "    .dataframe tbody tr th:only-of-type {\n",
       "        vertical-align: middle;\n",
       "    }\n",
       "\n",
       "    .dataframe tbody tr th {\n",
       "        vertical-align: top;\n",
       "    }\n",
       "\n",
       "    .dataframe thead th {\n",
       "        text-align: right;\n",
       "    }\n",
       "</style>\n",
       "<table border=\"1\" class=\"dataframe\">\n",
       "  <thead>\n",
       "    <tr style=\"text-align: right;\">\n",
       "      <th></th>\n",
       "      <th>Title</th>\n",
       "      <th>Year</th>\n",
       "      <th>Age</th>\n",
       "      <th>IMDb</th>\n",
       "      <th>Rotten Tomatoes</th>\n",
       "      <th>Netflix</th>\n",
       "      <th>Hulu</th>\n",
       "      <th>Prime Video</th>\n",
       "      <th>Disney+</th>\n",
       "      <th>Type</th>\n",
       "      <th>Directors</th>\n",
       "      <th>Genres</th>\n",
       "      <th>Country</th>\n",
       "      <th>Language</th>\n",
       "      <th>Runtime</th>\n",
       "    </tr>\n",
       "    <tr>\n",
       "      <th>ID</th>\n",
       "      <th></th>\n",
       "      <th></th>\n",
       "      <th></th>\n",
       "      <th></th>\n",
       "      <th></th>\n",
       "      <th></th>\n",
       "      <th></th>\n",
       "      <th></th>\n",
       "      <th></th>\n",
       "      <th></th>\n",
       "      <th></th>\n",
       "      <th></th>\n",
       "      <th></th>\n",
       "      <th></th>\n",
       "      <th></th>\n",
       "    </tr>\n",
       "  </thead>\n",
       "  <tbody>\n",
       "  </tbody>\n",
       "</table>\n",
       "</div>"
      ],
      "text/plain": [
       "Empty DataFrame\n",
       "Columns: [Title, Year, Age, IMDb, Rotten Tomatoes, Netflix, Hulu, Prime Video, Disney+, Type, Directors, Genres, Country, Language, Runtime]\n",
       "Index: []"
      ]
     },
     "execution_count": 72,
     "metadata": {},
     "output_type": "execute_result"
    }
   ],
   "source": [
    "reject_outliers_iqr(df, 'IMDb')"
   ]
  },
  {
   "cell_type": "markdown",
   "metadata": {},
   "source": [
    "### Fill or Drop Null Values"
   ]
  },
  {
   "cell_type": "code",
   "execution_count": 74,
   "metadata": {},
   "outputs": [
    {
     "data": {
      "text/html": [
       "<div>\n",
       "<style scoped>\n",
       "    .dataframe tbody tr th:only-of-type {\n",
       "        vertical-align: middle;\n",
       "    }\n",
       "\n",
       "    .dataframe tbody tr th {\n",
       "        vertical-align: top;\n",
       "    }\n",
       "\n",
       "    .dataframe thead th {\n",
       "        text-align: right;\n",
       "    }\n",
       "</style>\n",
       "<table border=\"1\" class=\"dataframe\">\n",
       "  <thead>\n",
       "    <tr style=\"text-align: right;\">\n",
       "      <th></th>\n",
       "      <th>Title</th>\n",
       "      <th>Year</th>\n",
       "      <th>Age</th>\n",
       "      <th>IMDb</th>\n",
       "      <th>Rotten Tomatoes</th>\n",
       "      <th>Netflix</th>\n",
       "      <th>Hulu</th>\n",
       "      <th>Prime Video</th>\n",
       "      <th>Disney+</th>\n",
       "      <th>Type</th>\n",
       "      <th>Directors</th>\n",
       "      <th>Genres</th>\n",
       "      <th>Country</th>\n",
       "      <th>Language</th>\n",
       "      <th>Runtime</th>\n",
       "    </tr>\n",
       "    <tr>\n",
       "      <th>ID</th>\n",
       "      <th></th>\n",
       "      <th></th>\n",
       "      <th></th>\n",
       "      <th></th>\n",
       "      <th></th>\n",
       "      <th></th>\n",
       "      <th></th>\n",
       "      <th></th>\n",
       "      <th></th>\n",
       "      <th></th>\n",
       "      <th></th>\n",
       "      <th></th>\n",
       "      <th></th>\n",
       "      <th></th>\n",
       "      <th></th>\n",
       "    </tr>\n",
       "  </thead>\n",
       "  <tbody>\n",
       "    <tr>\n",
       "      <th>1</th>\n",
       "      <td>Inception</td>\n",
       "      <td>2010</td>\n",
       "      <td>13+</td>\n",
       "      <td>8.8</td>\n",
       "      <td>87%</td>\n",
       "      <td>1</td>\n",
       "      <td>0</td>\n",
       "      <td>0</td>\n",
       "      <td>0</td>\n",
       "      <td>0</td>\n",
       "      <td>Christopher Nolan</td>\n",
       "      <td>Action,Adventure,Sci-Fi,Thriller</td>\n",
       "      <td>United States,United Kingdom</td>\n",
       "      <td>English,Japanese,French</td>\n",
       "      <td>148.0</td>\n",
       "    </tr>\n",
       "    <tr>\n",
       "      <th>2</th>\n",
       "      <td>The Matrix</td>\n",
       "      <td>1999</td>\n",
       "      <td>18+</td>\n",
       "      <td>8.7</td>\n",
       "      <td>87%</td>\n",
       "      <td>1</td>\n",
       "      <td>0</td>\n",
       "      <td>0</td>\n",
       "      <td>0</td>\n",
       "      <td>0</td>\n",
       "      <td>Lana Wachowski,Lilly Wachowski</td>\n",
       "      <td>Action,Sci-Fi</td>\n",
       "      <td>United States</td>\n",
       "      <td>English</td>\n",
       "      <td>136.0</td>\n",
       "    </tr>\n",
       "    <tr>\n",
       "      <th>3</th>\n",
       "      <td>Avengers: Infinity War</td>\n",
       "      <td>2018</td>\n",
       "      <td>13+</td>\n",
       "      <td>8.5</td>\n",
       "      <td>84%</td>\n",
       "      <td>1</td>\n",
       "      <td>0</td>\n",
       "      <td>0</td>\n",
       "      <td>0</td>\n",
       "      <td>0</td>\n",
       "      <td>Anthony Russo,Joe Russo</td>\n",
       "      <td>Action,Adventure,Sci-Fi</td>\n",
       "      <td>United States</td>\n",
       "      <td>English</td>\n",
       "      <td>149.0</td>\n",
       "    </tr>\n",
       "    <tr>\n",
       "      <th>4</th>\n",
       "      <td>Back to the Future</td>\n",
       "      <td>1985</td>\n",
       "      <td>7+</td>\n",
       "      <td>8.5</td>\n",
       "      <td>96%</td>\n",
       "      <td>1</td>\n",
       "      <td>0</td>\n",
       "      <td>0</td>\n",
       "      <td>0</td>\n",
       "      <td>0</td>\n",
       "      <td>Robert Zemeckis</td>\n",
       "      <td>Adventure,Comedy,Sci-Fi</td>\n",
       "      <td>United States</td>\n",
       "      <td>English</td>\n",
       "      <td>116.0</td>\n",
       "    </tr>\n",
       "    <tr>\n",
       "      <th>5</th>\n",
       "      <td>The Good, the Bad and the Ugly</td>\n",
       "      <td>1966</td>\n",
       "      <td>18+</td>\n",
       "      <td>8.8</td>\n",
       "      <td>97%</td>\n",
       "      <td>1</td>\n",
       "      <td>0</td>\n",
       "      <td>1</td>\n",
       "      <td>0</td>\n",
       "      <td>0</td>\n",
       "      <td>Sergio Leone</td>\n",
       "      <td>Western</td>\n",
       "      <td>Italy,Spain,West Germany</td>\n",
       "      <td>Italian</td>\n",
       "      <td>161.0</td>\n",
       "    </tr>\n",
       "    <tr>\n",
       "      <th>...</th>\n",
       "      <td>...</td>\n",
       "      <td>...</td>\n",
       "      <td>...</td>\n",
       "      <td>...</td>\n",
       "      <td>...</td>\n",
       "      <td>...</td>\n",
       "      <td>...</td>\n",
       "      <td>...</td>\n",
       "      <td>...</td>\n",
       "      <td>...</td>\n",
       "      <td>...</td>\n",
       "      <td>...</td>\n",
       "      <td>...</td>\n",
       "      <td>...</td>\n",
       "      <td>...</td>\n",
       "    </tr>\n",
       "    <tr>\n",
       "      <th>16740</th>\n",
       "      <td>The Ghosts of Buxley Hall</td>\n",
       "      <td>1980</td>\n",
       "      <td>0</td>\n",
       "      <td>6.2</td>\n",
       "      <td>0</td>\n",
       "      <td>0</td>\n",
       "      <td>0</td>\n",
       "      <td>0</td>\n",
       "      <td>1</td>\n",
       "      <td>0</td>\n",
       "      <td>Bruce Bilson</td>\n",
       "      <td>Comedy,Family,Fantasy,Horror</td>\n",
       "      <td>United States</td>\n",
       "      <td>English</td>\n",
       "      <td>120.0</td>\n",
       "    </tr>\n",
       "    <tr>\n",
       "      <th>16741</th>\n",
       "      <td>The Poof Point</td>\n",
       "      <td>2001</td>\n",
       "      <td>7+</td>\n",
       "      <td>4.7</td>\n",
       "      <td>0</td>\n",
       "      <td>0</td>\n",
       "      <td>0</td>\n",
       "      <td>0</td>\n",
       "      <td>1</td>\n",
       "      <td>0</td>\n",
       "      <td>Neal Israel</td>\n",
       "      <td>Comedy,Family,Sci-Fi</td>\n",
       "      <td>United States</td>\n",
       "      <td>English</td>\n",
       "      <td>90.0</td>\n",
       "    </tr>\n",
       "    <tr>\n",
       "      <th>16742</th>\n",
       "      <td>Sharks of Lost Island</td>\n",
       "      <td>2013</td>\n",
       "      <td>0</td>\n",
       "      <td>5.7</td>\n",
       "      <td>0</td>\n",
       "      <td>0</td>\n",
       "      <td>0</td>\n",
       "      <td>0</td>\n",
       "      <td>1</td>\n",
       "      <td>0</td>\n",
       "      <td>Neil Gelinas</td>\n",
       "      <td>Documentary</td>\n",
       "      <td>United States</td>\n",
       "      <td>English</td>\n",
       "      <td>0.0</td>\n",
       "    </tr>\n",
       "    <tr>\n",
       "      <th>16743</th>\n",
       "      <td>Man Among Cheetahs</td>\n",
       "      <td>2017</td>\n",
       "      <td>0</td>\n",
       "      <td>6.6</td>\n",
       "      <td>0</td>\n",
       "      <td>0</td>\n",
       "      <td>0</td>\n",
       "      <td>0</td>\n",
       "      <td>1</td>\n",
       "      <td>0</td>\n",
       "      <td>Richard Slater-Jones</td>\n",
       "      <td>Documentary</td>\n",
       "      <td>United States</td>\n",
       "      <td>English</td>\n",
       "      <td>0.0</td>\n",
       "    </tr>\n",
       "    <tr>\n",
       "      <th>16744</th>\n",
       "      <td>In Beaver Valley</td>\n",
       "      <td>1950</td>\n",
       "      <td>0</td>\n",
       "      <td>0.0</td>\n",
       "      <td>0</td>\n",
       "      <td>0</td>\n",
       "      <td>0</td>\n",
       "      <td>0</td>\n",
       "      <td>1</td>\n",
       "      <td>0</td>\n",
       "      <td>James Algar</td>\n",
       "      <td>Documentary,Short,Family</td>\n",
       "      <td>United States</td>\n",
       "      <td>English</td>\n",
       "      <td>32.0</td>\n",
       "    </tr>\n",
       "  </tbody>\n",
       "</table>\n",
       "<p>16744 rows × 15 columns</p>\n",
       "</div>"
      ],
      "text/plain": [
       "                                Title  Year  Age  IMDb Rotten Tomatoes  \\\n",
       "ID                                                                       \n",
       "1                           Inception  2010  13+   8.8             87%   \n",
       "2                          The Matrix  1999  18+   8.7             87%   \n",
       "3              Avengers: Infinity War  2018  13+   8.5             84%   \n",
       "4                  Back to the Future  1985   7+   8.5             96%   \n",
       "5      The Good, the Bad and the Ugly  1966  18+   8.8             97%   \n",
       "...                               ...   ...  ...   ...             ...   \n",
       "16740       The Ghosts of Buxley Hall  1980    0   6.2               0   \n",
       "16741                  The Poof Point  2001   7+   4.7               0   \n",
       "16742           Sharks of Lost Island  2013    0   5.7               0   \n",
       "16743              Man Among Cheetahs  2017    0   6.6               0   \n",
       "16744                In Beaver Valley  1950    0   0.0               0   \n",
       "\n",
       "       Netflix  Hulu  Prime Video  Disney+  Type  \\\n",
       "ID                                                 \n",
       "1            1     0            0        0     0   \n",
       "2            1     0            0        0     0   \n",
       "3            1     0            0        0     0   \n",
       "4            1     0            0        0     0   \n",
       "5            1     0            1        0     0   \n",
       "...        ...   ...          ...      ...   ...   \n",
       "16740        0     0            0        1     0   \n",
       "16741        0     0            0        1     0   \n",
       "16742        0     0            0        1     0   \n",
       "16743        0     0            0        1     0   \n",
       "16744        0     0            0        1     0   \n",
       "\n",
       "                            Directors                            Genres  \\\n",
       "ID                                                                        \n",
       "1                   Christopher Nolan  Action,Adventure,Sci-Fi,Thriller   \n",
       "2      Lana Wachowski,Lilly Wachowski                     Action,Sci-Fi   \n",
       "3             Anthony Russo,Joe Russo           Action,Adventure,Sci-Fi   \n",
       "4                     Robert Zemeckis           Adventure,Comedy,Sci-Fi   \n",
       "5                        Sergio Leone                           Western   \n",
       "...                               ...                               ...   \n",
       "16740                    Bruce Bilson      Comedy,Family,Fantasy,Horror   \n",
       "16741                     Neal Israel              Comedy,Family,Sci-Fi   \n",
       "16742                    Neil Gelinas                       Documentary   \n",
       "16743            Richard Slater-Jones                       Documentary   \n",
       "16744                     James Algar          Documentary,Short,Family   \n",
       "\n",
       "                            Country                 Language  Runtime  \n",
       "ID                                                                     \n",
       "1      United States,United Kingdom  English,Japanese,French    148.0  \n",
       "2                     United States                  English    136.0  \n",
       "3                     United States                  English    149.0  \n",
       "4                     United States                  English    116.0  \n",
       "5          Italy,Spain,West Germany                  Italian    161.0  \n",
       "...                             ...                      ...      ...  \n",
       "16740                 United States                  English    120.0  \n",
       "16741                 United States                  English     90.0  \n",
       "16742                 United States                  English      0.0  \n",
       "16743                 United States                  English      0.0  \n",
       "16744                 United States                  English     32.0  \n",
       "\n",
       "[16744 rows x 15 columns]"
      ]
     },
     "execution_count": 74,
     "metadata": {},
     "output_type": "execute_result"
    }
   ],
   "source": [
    "# Using fill for this example\n",
    "df.fillna(0)"
   ]
  },
  {
   "cell_type": "markdown",
   "metadata": {},
   "source": [
    "### Variable Selection"
   ]
  },
  {
   "cell_type": "markdown",
   "metadata": {},
   "source": [
    "This section represents the transition from exploration to selection of the data points that you would like to examine further to answer specific questions that have come to mind or have been presented by other parties."
   ]
  },
  {
   "cell_type": "markdown",
   "metadata": {},
   "source": [
    "I hope you have found this framework helpful and good luck with your data analysis!"
   ]
  },
  {
   "cell_type": "code",
   "execution_count": null,
   "metadata": {},
   "outputs": [],
   "source": []
  }
 ],
 "metadata": {
  "kernelspec": {
   "display_name": "Python 3",
   "language": "python",
   "name": "python3"
  },
  "language_info": {
   "codemirror_mode": {
    "name": "ipython",
    "version": 3
   },
   "file_extension": ".py",
   "mimetype": "text/x-python",
   "name": "python",
   "nbconvert_exporter": "python",
   "pygments_lexer": "ipython3",
   "version": "3.7.4"
  }
 },
 "nbformat": 4,
 "nbformat_minor": 4
}
